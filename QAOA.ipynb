{
 "cells": [
  {
   "cell_type": "markdown",
   "metadata": {},
   "source": [
    "# Quantum approximate optimization algorithm\n",
    "\n",
    "The quantum approximate optimization algorithm (QAOA) is a shallow-circuit variational algorithm for gate-model quantum computers that was inspired by quantum annealing. We discretize the adiabatic pathway in some $p$ steps, where $p$ influences precision. Each discrete time step $i$ has two parameters, $\\beta_i, \\gamma_i$. The classical variational algorithms does an optimization over these parameters based on the observed energy at the end of a run on the quantum hardware.\n",
    "\n",
    "More formally, we want to discretize the time-dependent $H(t)=(1-t)H_0 + tH_1$ under adiabatic conditions. We achieve this by Trotterizing the unitary. For instance, for time step $t_0$, we can split this unitary as $U(t_0) = U(H_0, \\beta_0)U(H_1, \\gamma_0)$. We can continue doing this for subsequent time steps, eventually splitting up the evolution to $p$ such chunks:\n",
    "\n",
    "$$\n",
    "U = U(H_0, \\beta_0)U(H_1, \\gamma_0)\\ldots U(H_0, \\beta_p)U(H_1, \\gamma_p).\n",
    "$$\n",
    "\n",
    "At the end of optimizing the parameters, this discretized evolution will approximate the adiabatic pathway:\n",
    "\n",
    "The Hamiltonian $H_0$ is often referred to as the driving or mixing Hamiltonian, and $H_1$ as the cost Hamiltonian. The simplest mixing Hamiltonian is $H_0 = -\\sum_i \\sigma^X_i$, the same as the initial Hamiltonian in quantum annealing. By alternating between the two Hamiltonian, the mixing Hamiltonian drives the state towards an equal superposition, whereas the cost Hamiltonian tries to seek its own ground state.\n"
   ]
  },
  {
   "cell_type": "code",
   "execution_count": null,
   "metadata": {},
   "outputs": [],
   "source": []
  },
  {
   "cell_type": "code",
   "execution_count": 1,
   "metadata": {
    "ExecuteTime": {
     "end_time": "2018-11-19T20:09:25.405530Z",
     "start_time": "2018-11-19T20:09:25.393410Z"
    }
   },
   "outputs": [
    {
     "ename": "ModuleNotFoundError",
     "evalue": "No module named 'qiskit.aqua.operators'",
     "output_type": "error",
     "traceback": [
      "\u001b[0;31m---------------------------------------------------------------------------\u001b[0m",
      "\u001b[0;31mModuleNotFoundError\u001b[0m                       Traceback (most recent call last)",
      "\u001b[0;32m<ipython-input-1-3bf44b102b35>\u001b[0m in \u001b[0;36m<module>\u001b[0;34m\u001b[0m\n\u001b[1;32m      3\u001b[0m \u001b[0;32mfrom\u001b[0m \u001b[0mqiskit\u001b[0m \u001b[0;32mimport\u001b[0m \u001b[0mBasicAer\u001b[0m\u001b[0;34m,\u001b[0m \u001b[0mQuantumRegister\u001b[0m\u001b[0;34m,\u001b[0m \u001b[0mexecute\u001b[0m\u001b[0;34m\u001b[0m\u001b[0;34m\u001b[0m\u001b[0m\n\u001b[1;32m      4\u001b[0m \u001b[0;32mfrom\u001b[0m \u001b[0mqiskit\u001b[0m\u001b[0;34m.\u001b[0m\u001b[0mquantum_info\u001b[0m \u001b[0;32mimport\u001b[0m \u001b[0mPauli\u001b[0m\u001b[0;34m\u001b[0m\u001b[0;34m\u001b[0m\u001b[0m\n\u001b[0;32m----> 5\u001b[0;31m \u001b[0;32mfrom\u001b[0m \u001b[0mqiskit\u001b[0m\u001b[0;34m.\u001b[0m\u001b[0maqua\u001b[0m\u001b[0;34m.\u001b[0m\u001b[0moperators\u001b[0m \u001b[0;32mimport\u001b[0m \u001b[0mWeightedPauliOperator\u001b[0m\u001b[0;34m,\u001b[0m \u001b[0mMatrixOperator\u001b[0m\u001b[0;34m\u001b[0m\u001b[0;34m\u001b[0m\u001b[0m\n\u001b[0m\u001b[1;32m      6\u001b[0m \u001b[0;32mfrom\u001b[0m \u001b[0mqiskit\u001b[0m\u001b[0;34m.\u001b[0m\u001b[0maqua\u001b[0m \u001b[0;32mimport\u001b[0m \u001b[0mOperator\u001b[0m\u001b[0;34m,\u001b[0m \u001b[0mget_aer_backend\u001b[0m\u001b[0;34m\u001b[0m\u001b[0;34m\u001b[0m\u001b[0m\n\u001b[1;32m      7\u001b[0m \u001b[0;32mfrom\u001b[0m \u001b[0mqiskit\u001b[0m\u001b[0;34m.\u001b[0m\u001b[0maqua\u001b[0m\u001b[0;34m.\u001b[0m\u001b[0mcomponents\u001b[0m\u001b[0;34m.\u001b[0m\u001b[0minitial_states\u001b[0m \u001b[0;32mimport\u001b[0m \u001b[0mCustom\u001b[0m\u001b[0;34m\u001b[0m\u001b[0;34m\u001b[0m\u001b[0m\n",
      "\u001b[0;31mModuleNotFoundError\u001b[0m: No module named 'qiskit.aqua.operators'"
     ]
    }
   ],
   "source": [
    "import itertools\n",
    "import numpy as np\n",
    "from qiskit import BasicAer, QuantumRegister, execute\n",
    "from qiskit.quantum_info import Pauli\n",
    "from qiskit.aqua.operators import WeightedPauliOperator, MatrixOperator\n",
    "from qiskit.aqua import Operator, get_aer_backend\n",
    "from qiskit.aqua.components.initial_states import Custom\n",
    "from scipy.optimize import minimize\n",
    "np.set_printoptions(precision=3, suppress=True)\n",
    "import warnings\n",
    "warnings.filterwarnings('ignore')"
   ]
  },
  {
   "cell_type": "code",
   "execution_count": null,
   "metadata": {},
   "outputs": [],
   "source": [
    "def pauli_x(qubit, coeff):\n",
    "    eye = np.eye((n_qubits)) \n",
    "    return Operator([[coeff, Pauli(np.zeros(n_qubits), eye[qubit])]])\n",
    "\n",
    "def pauli_z(qubit, coeff):\n",
    "    eye = np.eye((n_qubits))\n",
    "    return Operator([[coeff, Pauli(eye[qubit], np.zeros(n_qubits))]])\n",
    "\n",
    "def product_pauli_z(q1, q2, coeff):\n",
    "    eye = np.eye((n_qubits))\n",
    "    return Operator([[coeff, Pauli(eye[q1], np.zeros(n_qubits)) * Pauli(eye[q2], np.zeros(n_qubits))]])"
   ]
  },
  {
   "cell_type": "code",
   "execution_count": null,
   "metadata": {},
   "outputs": [],
   "source": [
    "pauli_dict_mix = {\n",
    "    'paulis': [{\"coeff\": {\"imag\": 0.0, \"real\": -1.0}, \"label\": \"IX\"},\n",
    "              {\"coeff\": {\"imag\": 0.0, \"real\": -1.0}, \"label\": \"XI\"}]\n",
    "}\n",
    "\n",
    "pauli_dict_cost = {\n",
    "    'paulis': [{\"coeff\": {\"imag\": 0.0, \"real\": -1.0}, \"label\": \"ZZ\"}]\n",
    "}\n",
    "\n",
    "pauli_dict_iden = {\n",
    "    'paulis': [{\"coeff\": {\"imag\": 0.0, \"real\": 1.0}, \"label\": \"II\"}]\n",
    "}\n",
    "\n",
    "H_mix = qiskit.aqua.operators.WeightedPauliOperator.from_dict(pauli_dict_mix)\n",
    "H_cost = WeightedPauliOperator.from_dict(pauli_dict_cost)\n",
    "H_iden = WeightedPauliOperator.from_dict(pauli_dict_iden)\n",
    "\n",
    "print(H_mix, H_cost, H_iden)"
   ]
  },
  {
   "cell_type": "code",
   "execution_count": null,
   "metadata": {},
   "outputs": [],
   "source": [
    "def ham_mat(operator):\n",
    "    hamiltonian = 0\n",
    "    for weight, pauli in operator.paulis:\n",
    "        hamiltonian += weight * pauli.to_spmatrix()\n",
    "    return MatrixOperator(matrix=hamiltonian, z2_symmetries=operator.z2_symmetries, name=operator.name)"
   ]
  },
  {
   "cell_type": "code",
   "execution_count": null,
   "metadata": {},
   "outputs": [],
   "source": [
    "n_qubits = 2"
   ]
  },
  {
   "cell_type": "code",
   "execution_count": null,
   "metadata": {
    "ExecuteTime": {
     "end_time": "2018-11-19T20:08:17.863004Z",
     "start_time": "2018-11-19T20:08:17.843293Z"
    }
   },
   "outputs": [],
   "source": [
    "identity = pauli_x(0, 0)\n",
    "\n",
    "Hm = sum([pauli_x(i, -1) for i in range(n_qubits)], identity)\n",
    "Hm.to_matrix()\n",
    "print(Hm._matrix.toarray())\n",
    "print(ham_mat(H_mix).dense_matrix)"
   ]
  },
  {
   "cell_type": "markdown",
   "metadata": {},
   "source": [
    "Then we define the cost Hamiltonian $H_c=-\\sigma^Z_1 \\otimes \\sigma^Z_2$:"
   ]
  },
  {
   "cell_type": "code",
   "execution_count": null,
   "metadata": {
    "ExecuteTime": {
     "end_time": "2018-11-19T20:08:17.885938Z",
     "start_time": "2018-11-19T20:08:17.865184Z"
    }
   },
   "outputs": [],
   "source": [
    "J = np.array([[0,1],[0,0]])\n",
    "\n",
    "# itertools.product returns a list of all the pairs (i,j) lower than n_qubits\n",
    "Hc = sum([product_pauli_z(i,j, -J[i,j])\n",
    "             for i,j in itertools.product(range(n_qubits), repeat=2)], identity)\n",
    "Hc.to_matrix()\n",
    "print(Hc._matrix.toarray())\n",
    "print(ham_mat(H_cost).dense_matrix)"
   ]
  },
  {
   "cell_type": "code",
   "execution_count": null,
   "metadata": {
    "ExecuteTime": {
     "end_time": "2018-11-19T20:08:17.925805Z",
     "start_time": "2018-11-19T20:08:17.905037Z"
    }
   },
   "outputs": [],
   "source": [
    "n_iter = 10\n",
    "p = 2\n",
    "beta = np.random.uniform(0, np.pi*2, p)\n",
    "gamma = np.random.uniform(0, np.pi*2, p)"
   ]
  },
  {
   "cell_type": "code",
   "execution_count": null,
   "metadata": {},
   "outputs": [],
   "source": [
    "init_state_vect = [1 for i in range(2**n_qubits)]\n",
    "init_state = Custom(n_qubits, state_vector=init_state_vect)"
   ]
  },
  {
   "cell_type": "code",
   "execution_count": null,
   "metadata": {
    "ExecuteTime": {
     "end_time": "2018-11-19T20:08:18.058128Z",
     "start_time": "2018-11-19T20:08:18.050635Z"
    }
   },
   "outputs": [],
   "source": [
    "qr = QuantumRegister(n_qubits, name='q')\n",
    "circuit_init = init_state.construct_circuit('circuit', qr)"
   ]
  },
  {
   "cell_type": "code",
   "execution_count": null,
   "metadata": {
    "ExecuteTime": {
     "end_time": "2018-11-19T20:08:18.075525Z",
     "start_time": "2018-11-19T20:08:18.059933Z"
    }
   },
   "outputs": [],
   "source": [
    "def evolve_dm(hamiltonian, angle, quantum_registers):\n",
    "    return hamiltonian.evolve(state_in=None, evo_time=angle, evo_mode=None, num_time_slices=1,\n",
    "                              quantum_registers=quantum_registers,\n",
    "                              expansion_mode='suzuki',\n",
    "                              expansion_order=3)\n",
    "\n",
    "def evolve_un(hamiltonian, angle, quantum_registers):\n",
    "    return hamiltonian.evolve(None, angle, 'circuit', 1,\n",
    "                              quantum_registers=quantum_registers,\n",
    "                              expansion_mode='suzuki',\n",
    "                              expansion_order=3)"
   ]
  },
  {
   "cell_type": "code",
   "execution_count": null,
   "metadata": {
    "ExecuteTime": {
     "end_time": "2018-11-19T20:08:18.091375Z",
     "start_time": "2018-11-19T20:08:18.077164Z"
    }
   },
   "outputs": [],
   "source": [
    "def create_circuit_dm(beta_gamma):\n",
    "    n = len(beta_gamma)//2\n",
    "    beta = beta_gamma[:n]\n",
    "    gamma = beta_gamma[n:]\n",
    "    circuit_evolv = sum([evolve_dm(H_cost, beta[i],qr) + evolve_dm(H_mix, gamma[i], qr) \n",
    "                        for i in range(p)], evolve_dm(H_iden, 0, qr))\n",
    "    circuit = circuit_init + circuit_evolv\n",
    "    return circuit\n",
    "\n",
    "def create_circuit_un(beta_gamma):\n",
    "    n = len(beta_gamma)//2\n",
    "    beta = beta_gamma[:n]\n",
    "    gamma = beta_gamma[n:]\n",
    "    circuit_evolv = sum([evolve_un(Hc, beta[i], qr) + evolve_un(Hm, gamma[i], qr)\n",
    "                            for i in range(p)], evolve_un(identity, 0, qr))\n",
    "    circuit = circuit_init + circuit_evolv\n",
    "    return circuit"
   ]
  },
  {
   "cell_type": "code",
   "execution_count": null,
   "metadata": {},
   "outputs": [],
   "source": [
    "def densemat(vec):\n",
    "        dens = vec.copy()\n",
    "        trans = []\n",
    "        import itertools\n",
    "        bina1 = [x for x in itertools.product(\n",
    "            [0, 1], repeat=n_qubits)]\n",
    "        bina2 = [''.join(str(y) for y in x) for x in bina1]\n",
    "        for idx in bina2:\n",
    "            a = int(idx, 2)\n",
    "            b = int(idx[::-1], 2)\n",
    "            if a not in trans and b not in trans:\n",
    "                trans.append(a)\n",
    "                trans.append(b)\n",
    "                dens[a], dens[b] = dens[b], dens[a]\n",
    "        densitymatrix = np.outer(dens, np.conj(dens))\n",
    "        return densitymatrix"
   ]
  },
  {
   "cell_type": "code",
   "execution_count": null,
   "metadata": {
    "ExecuteTime": {
     "end_time": "2018-11-19T20:08:18.117855Z",
     "start_time": "2018-11-19T20:08:18.093293Z"
    }
   },
   "outputs": [],
   "source": [
    "def evaluate_circuit_dm(beta_gamma):\n",
    "    circuit = create_circuit_dm(beta_gamma)\n",
    "    result = execute(circuit, backend=BasicAer.get_backend('dm_simulator')).result()\n",
    "    dm = result['results'][0]['data']['densitymatrix']\n",
    "    Hc_mat = ham_mat(H_cost)\n",
    "    return np.real(np.trace(np.matmul(dm, Hc_mat.dense_matrix)))\n",
    "\n",
    "def evaluate_circuit_un(beta_gamma):\n",
    "    circuit = create_circuit_un(beta_gamma)\n",
    "    result = execute(circuit, backend=BasicAer.get_backend('qasm_simulator')).result()\n",
    "    st =  np.reshape(result['results'][0]['data']['statevector'], 2 ** n_qubits)\n",
    "    dm = densemat(st) \n",
    "    Hc.to_matrix()\n",
    "    return np.real(np.trace(np.matmul(dm, Hc._matrix.toarray())))"
   ]
  },
  {
   "cell_type": "code",
   "execution_count": null,
   "metadata": {
    "scrolled": true
   },
   "outputs": [],
   "source": [
    "evaluate_circuit_un(np.concatenate([beta, gamma]))"
   ]
  },
  {
   "cell_type": "code",
   "execution_count": null,
   "metadata": {
    "scrolled": true
   },
   "outputs": [],
   "source": [
    "evaluate_circuit_dm(np.concatenate([beta, gamma]))"
   ]
  },
  {
   "cell_type": "markdown",
   "metadata": {},
   "source": [
    "Finally, we optimize the angles:"
   ]
  },
  {
   "cell_type": "code",
   "execution_count": null,
   "metadata": {
    "ExecuteTime": {
     "end_time": "2018-11-19T20:08:37.699288Z",
     "start_time": "2018-11-19T20:08:18.119570Z"
    }
   },
   "outputs": [],
   "source": [
    "result_un = minimize(evaluate_circuit_un, np.concatenate([beta, gamma]), method='L-BFGS-B')\n",
    "print(result_un)"
   ]
  },
  {
   "cell_type": "code",
   "execution_count": null,
   "metadata": {},
   "outputs": [],
   "source": [
    "result_dm = minimize(evaluate_circuit_dm, np.concatenate([beta, gamma]), method='L-BFGS-B')\n",
    "print(result_dm)"
   ]
  }
 ],
 "metadata": {
  "kernelspec": {
   "display_name": "Python 3",
   "language": "python",
   "name": "python3"
  },
  "language_info": {
   "codemirror_mode": {
    "name": "ipython",
    "version": 3
   },
   "file_extension": ".py",
   "mimetype": "text/x-python",
   "name": "python",
   "nbconvert_exporter": "python",
   "pygments_lexer": "ipython3",
   "version": "3.6.8"
  }
 },
 "nbformat": 4,
 "nbformat_minor": 2
}
